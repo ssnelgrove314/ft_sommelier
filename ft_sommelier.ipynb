{
  "nbformat": 4,
  "nbformat_minor": 0,
  "metadata": {
    "colab": {
      "name": "ft_sommelier.ipynb",
      "version": "0.3.2",
      "provenance": [],
      "collapsed_sections": [
        "AKJbzGDyQars",
        "ya7-VDNvSXgY",
        "hqvBiF66t1O0"
      ],
      "include_colab_link": true
    },
    "kernelspec": {
      "name": "python3",
      "display_name": "Python 3"
    }
  },
  "cells": [
    {
      "cell_type": "markdown",
      "metadata": {
        "id": "view-in-github",
        "colab_type": "text"
      },
      "source": [
        "<a href=\"https://colab.research.google.com/github/ssnelgrove314/ft_sommelier/blob/master/ft_sommelier.ipynb\" target=\"_parent\"><img src=\"https://colab.research.google.com/assets/colab-badge.svg\" alt=\"Open In Colab\"/></a>"
      ]
    },
    {
      "cell_type": "markdown",
      "metadata": {
        "id": "RhQ1X29PO9Ko",
        "colab_type": "text"
      },
      "source": [
        "# V.1 Exploring The Green Reds"
      ]
    },
    {
      "cell_type": "markdown",
      "metadata": {
        "id": "D6fQ-L-6P_Uf",
        "colab_type": "text"
      },
      "source": [
        "##a)\n",
        "Write a function that will plot a scatterplot matrix of your red wine data. Your function should plot wines with quality over some “good_threshold” as one color, and wines below some “bad_threshold” as another. Your plotting function should have the option to save a .png of your plots. Here’s an example function definition:\n",
        "```python\n",
        "def plot_scatter_matrix(wine_data, good_threshold, bad_threshold, save_plot=False):\n",
        "  pass\n",
        "```\n",
        "**Don’t use the scatter_matrix() method in pandas.plotting!\n",
        "Learning how to modify plots with just matplotlib will be extremely helpful\n",
        "when creating custom plots in the future.**"
      ]
    },
    {
      "cell_type": "code",
      "metadata": {
        "id": "4RNbpnWGjPu_",
        "colab_type": "code",
        "colab": {}
      },
      "source": [
        "import matplotlib.pyplot as plt\n",
        "import pandas as pd\n",
        "\n",
        "def get_csv_from_github():\n",
        "  url = 'https://raw.githubusercontent.com/ssnelgrove314/ft_sommelier/master/winequality-red.csv'\n",
        "  df1 = pd.read_csv(url, sep=';')\n",
        "  return df1\n",
        "\n",
        "def plot_scatter_matrix(wine_data, good_thresh, bad_thresh, save_plot=False):\n",
        "  #Determines the good and the bad thresholds and subsets the data so it only contains those.\n",
        "  good = wine_data.quality >= good_thresh\n",
        "  bad = wine_data.quality <= bad_thresh\n",
        "  #The properly subsetted data\n",
        "  good_data = wine_data[good]\n",
        "  bad_data = wine_data[bad]\n",
        "  \n",
        "  fig = plt.figure(figsize=[20, 20])\n",
        "  \n",
        "  for x in range (1, wine_data.shape[1]):\n",
        "    for y in range (1, wine_data.shape[1]):\n",
        "      axes = fig.add_subplot(\n",
        "          wine_data.shape[1] - 1,\n",
        "          wine_data.shape[1] - 1,\n",
        "          ((x - 1) * (wine_data.shape[1] - 1) + y)\n",
        "      )\n",
        "      if(x == y):\n",
        "        name = good_data.columns[x - 1];\n",
        "        axes.text(\n",
        "            .50,\n",
        "            .50, \n",
        "            name,\n",
        "            size = 'xx-large',\n",
        "            horizontalalignment='center',\n",
        "            verticalalignment='center',\n",
        "            transform=axes.transAxes\n",
        "        )\n",
        "      else:\n",
        "        gx = good_data.iloc[:, x - 1];\n",
        "        gy = good_data.iloc[:, y - 1];\n",
        "        bx = bad_data.iloc[:, x - 1];\n",
        "        by = bad_data.iloc[:, y - 1];\n",
        "        axes.scatter(\n",
        "            gx, \n",
        "            gy, \n",
        "            color=[\"blue\"],\n",
        "            marker=\",\",\n",
        "            s=2\n",
        "        )\n",
        "        axes.scatter(\n",
        "            bx, \n",
        "            by, \n",
        "            color=[\"red\"],\n",
        "            marker=\",\",\n",
        "            s=2\n",
        "        )\n",
        "      axes.get_xaxis().set_visible(False)\n",
        "      axes.get_yaxis().set_visible(False)\n",
        "      \n",
        "  fig.subplots_adjust(wspace = 0, hspace=0)\n",
        "  if save_plot == True:\n",
        "    saved_fig = plt.savefig('plot_scatter_matrix.png')\n",
        "    return save_fig\n",
        "  else:\n",
        "    plt.show()"
      ],
      "execution_count": 0,
      "outputs": []
    },
    {
      "cell_type": "markdown",
      "metadata": {
        "id": "Ont1-4fji_cg",
        "colab_type": "text"
      },
      "source": [
        ""
      ]
    },
    {
      "cell_type": "code",
      "metadata": {
        "id": "c1uFbSbViouy",
        "colab_type": "code",
        "outputId": "a69448f0-f977-4fc1-c369-752275913b9d",
        "colab": {
          "base_uri": "https://localhost:8080/",
          "height": 665
        }
      },
      "source": [
        "\n",
        "df1['lable'] = \n",
        "df1"
      ],
      "execution_count": 0,
      "outputs": [
        {
          "output_type": "error",
          "ename": "ValueError",
          "evalue": "ignored",
          "traceback": [
            "\u001b[0;31m---------------------------------------------------------------------------\u001b[0m",
            "\u001b[0;31mValueError\u001b[0m                                Traceback (most recent call last)",
            "\u001b[0;32m<ipython-input-6-cc3a7bdc14da>\u001b[0m in \u001b[0;36m<module>\u001b[0;34m()\u001b[0m\n\u001b[1;32m      1\u001b[0m \u001b[0;34m\u001b[0m\u001b[0m\n\u001b[0;32m----> 2\u001b[0;31m \u001b[0mdf1\u001b[0m\u001b[0;34m[\u001b[0m\u001b[0;34m'lable'\u001b[0m\u001b[0;34m]\u001b[0m \u001b[0;34m=\u001b[0m \u001b[0;36m1\u001b[0m \u001b[0;32mif\u001b[0m \u001b[0mdf1\u001b[0m\u001b[0;34m[\u001b[0m\u001b[0;34m'quality'\u001b[0m\u001b[0;34m]\u001b[0m \u001b[0;34m<\u001b[0m \u001b[0;36m3\u001b[0m \u001b[0;32melse\u001b[0m \u001b[0;36m0\u001b[0m\u001b[0;34m\u001b[0m\u001b[0;34m\u001b[0m\u001b[0m\n\u001b[0m\u001b[1;32m      3\u001b[0m \u001b[0mdf1\u001b[0m\u001b[0;34m\u001b[0m\u001b[0;34m\u001b[0m\u001b[0m\n",
            "\u001b[0;32m/usr/local/lib/python3.6/dist-packages/pandas/core/generic.py\u001b[0m in \u001b[0;36m__nonzero__\u001b[0;34m(self)\u001b[0m\n\u001b[1;32m   1476\u001b[0m         raise ValueError(\"The truth value of a {0} is ambiguous. \"\n\u001b[1;32m   1477\u001b[0m                          \u001b[0;34m\"Use a.empty, a.bool(), a.item(), a.any() or a.all().\"\u001b[0m\u001b[0;34m\u001b[0m\u001b[0;34m\u001b[0m\u001b[0m\n\u001b[0;32m-> 1478\u001b[0;31m                          .format(self.__class__.__name__))\n\u001b[0m\u001b[1;32m   1479\u001b[0m \u001b[0;34m\u001b[0m\u001b[0m\n\u001b[1;32m   1480\u001b[0m     \u001b[0m__bool__\u001b[0m \u001b[0;34m=\u001b[0m \u001b[0m__nonzero__\u001b[0m\u001b[0;34m\u001b[0m\u001b[0;34m\u001b[0m\u001b[0m\n",
            "\u001b[0;31mValueError\u001b[0m: The truth value of a Series is ambiguous. Use a.empty, a.bool(), a.item(), a.any() or a.all()."
          ]
        }
      ]
    },
    {
      "cell_type": "code",
      "metadata": {
        "id": "l7hmJUKCNMyN",
        "colab_type": "code",
        "outputId": "b0e2c617-2590-4058-df31-19caf349e286",
        "colab": {
          "base_uri": "https://localhost:8080/",
          "height": 1138
        }
      },
      "source": [
        "df1 = get_csv_from_github()\n",
        "plot_scatter_matrix(df1[[\"fixed acidity\", \"volatile acidity\", \"citric acid\", \"quality\"]], 6, 5)"
      ],
      "execution_count": 0,
      "outputs": [
        {
          "output_type": "display_data",
          "data": {
            "image/png": "[encoded data removed]",
            "text/plain": [
              "<Figure size 1440x1440 with 9 Axes>"
            ]
          },
          "metadata": {
            "tags": []
          }
        }
      ]
    },
    {
      "cell_type": "markdown",
      "metadata": {
        "id": "GT77oKwHPqRW",
        "colab_type": "text"
      },
      "source": [
        "## b)\n",
        "Now that you’ve had a chance to analyze different chemical factors in red wines and their relationship with high scores (8 or higher) and low scores (3 or lower), which factors do you think will be most useful to your perceptron for distinguishing high quality vs. low quality wines? Why?"
      ]
    },
    {
      "cell_type": "code",
      "metadata": {
        "id": "-KlEqM-XqoZh",
        "colab_type": "code",
        "outputId": "468b07d8-84be-4bfb-8906-ab15a234cf12",
        "colab": {
          "base_uri": "https://localhost:8080/",
          "height": 1119
        }
      },
      "source": [
        "df = get_csv_from_github()\n",
        "plot_scatter_matrix(df, 8, 3)"
      ],
      "execution_count": 0,
      "outputs": [
        {
          "output_type": "display_data",
          "data": {
            "image/png": "[encoded data removed]",
            "text/plain": [
              "<Figure size 1440x1440 with 121 Axes>"
            ]
          },
          "metadata": {
            "tags": []
          }
        }
      ]
    },
    {
      "cell_type": "markdown",
      "metadata": {
        "id": "DWzRiOggOzWZ",
        "colab_type": "text"
      },
      "source": [
        "**Which factors do you think will be most useful to your perceptron for distinguishing high quality vs. low quality wines? Why?**\n",
        "\n",
        "b) The most important factors are alcohol and ph because they seem to have the strongest linearly positive relationship."
      ]
    },
    {
      "cell_type": "markdown",
      "metadata": {
        "id": "uHNIhJWTQT7M",
        "colab_type": "text"
      },
      "source": [
        "#V.2 Learning To Perceptron"
      ]
    },
    {
      "cell_type": "markdown",
      "metadata": {
        "id": "AKJbzGDyQars",
        "colab_type": "text"
      },
      "source": [
        "## a) Implement a perceptron that: \n",
        "\n",
        "* Has randomly initialized weights and bias\n",
        "* Uses the Rosenblatt perceptron learning rule (with changeable learning rate)\n",
        "* Utilizes the heaviside step activation fuction (discrete version)\n",
        "\n",
        "\n"
      ]
    },
    {
      "cell_type": "code",
      "metadata": {
        "id": "OfQyjZ06CGG3",
        "colab_type": "code",
        "colab": {}
      },
      "source": [
        "import matplotlib.pyplot as plt\n",
        "import pandas as pd\n",
        "import random as rand\n",
        "\n",
        "class Perceptron(object):\n",
        "  def __init__(self, wine_data, good_thresh=8, bad_thresh=3, threshold = 0.0, columns=[\"pH\", \"alcohol\"]):\n",
        "    self.current_epoch = 0\n",
        "    self.threshold = threshold\n",
        "    self.wine_data = wine_data\n",
        "    self.wines, self.labels = self.get_good_bad_threshold_data(wine_data, good_thresh, bad_thresh, columns)\n",
        "    self.num_of_inputs = self.wines.shape[1]\n",
        "    self.weights, self.bias = [rand.uniform(-1.0, 1.0) for x in range(0, self.num_of_inputs)], rand.uniform(-1.0, 1.0)\n",
        "\n",
        "  def get_good_bad_threshold_data(self, wine_data, good_thresh, bad_thresh, columns=[\"pH\", \"alcohol\"]):\n",
        "    good = wine_data.quality >= good_thresh\n",
        "    bad = wine_data.quality <= bad_thresh\n",
        "    good_wine = wine_data[good]\n",
        "    bad_wine = wine_data[bad]\n",
        "    wine = [good_wine, bad_wine]\n",
        "    ret = pd.concat(wine)\n",
        "    labels = ret.quality.map(lambda x: 1.0 if x >= good_thresh else 0.0)\n",
        "    return ret[columns], labels\n",
        "  \n",
        "  def heaviside_step_function(self, activation):\n",
        "    return 1.0 if activation >= self.threshold else 0.0\n",
        "  \n",
        "  def predict(self, inputs):\n",
        "    #Heaviside step activation fuction discrete version\n",
        "    activation = self.bias\n",
        "    #dot product\n",
        "    for i in range(len(inputs)):\n",
        "      activation += self.weights[i] * inputs[i]\n",
        "    return self.heaviside_step_function(activation)"
      ],
      "execution_count": 0,
      "outputs": []
    },
    {
      "cell_type": "markdown",
      "metadata": {
        "id": "ya7-VDNvSXgY",
        "colab_type": "text"
      },
      "source": [
        "## b) \n",
        "You’ll need to implement a function to train your perceptron. Your training function should take in your red wine data as a parameter and should:\n",
        "* Have a way to specify number of training epochs\n",
        "* Train your perceptron until it makes no errors, if training epochs is set to 0, \n",
        "* Have a way to specify learning rate.\n",
        "* Return a list of python tuples containing (performance):\n",
        "```\n",
        "return [(current_epoch, num_errors_at_epoch_end, [array_of_weights], bias), . . . ]\n",
        "```\n",
        "\n",
        "What should your ‘training’ data be? For now, focus on training your perceptron on 2 chemical factors (for example, alcohol and pH) and only use wines with a score of 8 or higher and wines with a score of 3 or lower."
      ]
    },
    {
      "cell_type": "code",
      "metadata": {
        "id": "hOzo26X4TPuH",
        "colab_type": "code",
        "colab": {}
      },
      "source": [
        "import matplotlib.pyplot as plt\n",
        "import pandas as pd\n",
        "import random as rand\n",
        "import time\n",
        "\n",
        "class Perceptron(object):\n",
        "  def __init__(self, wine_data, good_thresh=8, bad_thresh=3, threshold = 0.0, columns=[\"pH\", \"alcohol\"]):\n",
        "    self.columns = columns\n",
        "    self.current_epoch = 0\n",
        "    self.threshold = threshold\n",
        "    self.wine_data = wine_data\n",
        "    self.wines, self.labels = self.get_good_bad_threshold_data(wine_data, good_thresh, bad_thresh, columns)\n",
        "    self.num_of_inputs = self.wines.shape[1]\n",
        "    self.weights, self.bias = [rand.uniform(-1.0, 1.0) for x in range(0, self.num_of_inputs)], rand.uniform(-1.0, 1.0)\n",
        "    self.ret_vals = None\n",
        "\n",
        "  def get_good_bad_threshold_data(self, wine_data, good_thresh, bad_thresh, columns=[\"pH\", \"alcohol\"]):\n",
        "    rand.seed(time.time())\n",
        "    good = wine_data.quality >= good_thresh\n",
        "    bad = wine_data.quality <= bad_thresh\n",
        "    good_wine = wine_data[good]\n",
        "    bad_wine = wine_data[bad]\n",
        "    wine = [good_wine, bad_wine]\n",
        "    ret = pd.concat(wine)\n",
        "    labels = ret.quality.map(lambda x: 1.0 if x >= good_thresh else 0.0)\n",
        "    return ret[columns], labels\n",
        "  \n",
        "  def heaviside_step_function(self, activation):\n",
        "    return 1.0 if activation >= self.threshold else 0.0\n",
        "  \n",
        "  def predict(self, inputs):\n",
        "    #Heaviside step activation fuction discrete version\n",
        "    activation = self.bias\n",
        "    #dot product\n",
        "    for i in range(len(inputs)):\n",
        "      activation += self.weights[i] * inputs[i]\n",
        "    return self.heaviside_step_function(activation)\n",
        "  \n",
        "  def train(self, epochs=100, learning_rate=1):\n",
        "    ret = []\n",
        "    if epochs == 0:\n",
        "      while (True):\n",
        "        self.current_epoch += 1\n",
        "        sum_error = 0.0\n",
        "        for i in range(len(self.wines)):\n",
        "          prediction = self.predict(self.wines.iloc[i])\n",
        "          error = self.labels.iloc[i] - prediction\n",
        "          sum_error += error**2\n",
        "          self.bias = self.bias + learning_rate * error\n",
        "          for j in range(len(self.wines.iloc[i])):\n",
        "            self.weights[j] = self.weights[j] + learning_rate * error * self.wines.iloc[i][j]\n",
        "        ret.append((int(self.current_epoch), int(sum_error), self.weights, self.bias))\n",
        "        if sum_error == 0:\n",
        "          self.ret_vals = ret\n",
        "          return ret\n",
        "    else:\n",
        "      for current in range(epochs):\n",
        "        self.current_epoch += 1\n",
        "        sum_error = 0.0\n",
        "        for i in range(len(self.wines)):\n",
        "          prediction = self.predict(self.wines.iloc[i])\n",
        "          error = self.labels.iloc[i] - prediction\n",
        "          sum_error += error**2\n",
        "          self.bias = self.bias + learning_rate * error\n",
        "          for j in range(len(self.wines.iloc[i])):\n",
        "            self.weights[j] = self.weights[j] + learning_rate * error * self.wines.iloc[i][j]\n",
        "        ret.append((int(self.current_epoch), int(sum_error), self.weights, self.bias))\n",
        "      self.ret_vals = ret\n",
        "      return ret\n"
      ],
      "execution_count": 0,
      "outputs": []
    },
    {
      "cell_type": "code",
      "metadata": {
        "id": "ZHOpObPzRs-q",
        "colab_type": "code",
        "outputId": "ab1e32db-f4a4-44e8-ec8d-0ab2af3a8ee6",
        "colab": {
          "base_uri": "https://localhost:8080/",
          "height": 34
        }
      },
      "source": [
        "url = 'https://raw.githubusercontent.com/ssnelgrove314/ft_sommelier/master/winequality-red.csv'\n",
        "wine_data = pd.read_csv(url, sep=';')\n",
        "percp = Perceptron(wine_data)\n",
        "ret_vals = percp.train(0, .1)\n",
        "print (ret_vals[0])"
      ],
      "execution_count": 0,
      "outputs": [
        {
          "output_type": "stream",
          "text": [
            "(1, 3, [-59.331540632063614, 14.804753260717785], -0.1876918865652927)\n"
          ],
          "name": "stdout"
        }
      ]
    },
    {
      "cell_type": "code",
      "metadata": {
        "id": "YN8XqufVckh4",
        "colab_type": "code",
        "outputId": "ba61a021-86fe-4f57-aa42-5b23b5ca1622",
        "colab": {
          "base_uri": "https://localhost:8080/",
          "height": 34
        }
      },
      "source": [
        "print(ret_vals[-1])"
      ],
      "execution_count": 0,
      "outputs": [
        {
          "output_type": "stream",
          "text": [
            "(7667, 0, [-59.34107631393928, 14.799053106636649], 43.70226748176037)\n"
          ],
          "name": "stdout"
        }
      ]
    },
    {
      "cell_type": "markdown",
      "metadata": {
        "id": "23l4lveFTZ0-",
        "colab_type": "text"
      },
      "source": [
        "## c)\n",
        "Now that you have a perceptron, a way to train your perceptron, and some data, you need a way to confirm that your perceptron actually works. Write a function that will take the output of your perceptron training function and your red wine data and generate two plots in one figure:\n",
        "* The first plot should plot the number of errors your perceptron made as a function of epoch. Be careful with how you calculate errors!\n",
        "* The second plot should plot the decision boundary of your perceptron and also show ‘good’ and ‘bad’ wine data points on the final training epoch. This second plot should also shade ‘good’ and ‘bad’ areas!\n",
        "* Your function should allow the user to specify a specific epoch and see what the decision boundary of the perceptron was on that epoch. If a negative epoch is given, cause the plots to show the last epoch."
      ]
    },
    {
      "cell_type": "code",
      "metadata": {
        "id": "eQob4M7bfXsw",
        "colab_type": "code",
        "outputId": "0bcbfb42-281b-428d-d2f3-dde83f2088e8",
        "colab": {
          "base_uri": "https://localhost:8080/",
          "height": 34
        }
      },
      "source": [
        "import math\n",
        "x = sum([x*x for x in [1,2,3]])\n",
        "print(x)"
      ],
      "execution_count": 0,
      "outputs": [
        {
          "output_type": "stream",
          "text": [
            "14\n"
          ],
          "name": "stdout"
        }
      ]
    },
    {
      "cell_type": "code",
      "metadata": {
        "id": "hKTRhVg6SR2G",
        "colab_type": "code",
        "colab": {}
      },
      "source": [
        "def find_min(data):\n",
        "  ret = data[0]\n",
        "  for val in data.values:\n",
        "    if val < ret:\n",
        "      ret = val\n",
        "  return ret\n",
        "\n",
        "\n",
        "def find_max(data):\n",
        "  ret = data[0]\n",
        "  for val in data.values:\n",
        "    if val > ret:\n",
        "      ret = val\n",
        "  return ret\n",
        "\n",
        "def find_mean(data):\n",
        "  return (sum(data) / len(data))\n",
        "\n",
        "\n",
        "def plot_errors_as_function_of_epoch(performance, fig):\n",
        "  errors = []\n",
        "  epochs = []\n",
        "  for t in performance:\n",
        "    errors.append(t[1])\n",
        "    epochs.append(t[0])\n",
        "  errors_epoch = fig.add_subplot(121)\n",
        "  errors_epoch.plot(epochs, errors)\n",
        "  errors_epoch.set_title(\"Errors as a function of epoch\")\n",
        "  errors_epoch.set_xlabel(\"epoch\")\n",
        "  errors_epoch.set_ylabel(\"classification errors\")  \n",
        "\n",
        "def plot_decision_boundry(performance, wine_data, good_thresh, bad_thresh, epoch, fig):\n",
        "#   print(performance[epoch])\n",
        "  last_tup = performance[epoch]\n",
        "  \n",
        "  good_wine = wine_data[(wine_data.quality >= good_thresh)]\n",
        "  bad_wine = wine_data[(wine_data.quality <= bad_thresh)]\n",
        "  \n",
        "  gx = good_wine[wine_data.columns[0]]\n",
        "  gy = good_wine[wine_data.columns[1]]\n",
        "  \n",
        "  bx = bad_wine[wine_data.columns[0]]\n",
        "  by = bad_wine[wine_data.columns[1]]\n",
        "  \n",
        "  x_min = find_min(wine_data[wine_data.columns[0]])\n",
        "  x_max = find_max(wine_data[wine_data.columns[0]])\n",
        "  y_min = find_min(wine_data[wine_data.columns[1]])\n",
        "  y_max = find_max(wine_data[wine_data.columns[1]])\n",
        "\n",
        "  bias = last_tup[3]\n",
        "  weights = last_tup[2]\n",
        "  \n",
        "  y = [0] * 101\n",
        "  x = [0] * 101\n",
        "  \n",
        "  slope = -(bias/weights[1])/(bias/weights[0])\n",
        "  intercept = -(bias/weights[1])\n",
        "  k = 0\n",
        "  for i in range(101):\n",
        "    x[i] = k + x_min\n",
        "    y[i] = slope * x[i] + intercept\n",
        "    k += (x_max - x_min) / 100\n",
        "  \n",
        "  axes = fig.add_subplot(122)\n",
        "  axes.plot(\n",
        "      x, \n",
        "      y, \n",
        "      label=\"Decision Boundry\",\n",
        "      color=\"black\"\n",
        "  )\n",
        "  axes.axis([x_min, x_max, y_min, y_max])\n",
        "  axes.set_xlabel(wine_data.columns[0])\n",
        "  axes.set_ylabel(wine_data.columns[1])\n",
        "  axes.fill_between(\n",
        "      x,\n",
        "      y,\n",
        "      y_min -2,\n",
        "      where=y>y_min-2,\n",
        "      color=\"blue\",\n",
        "      alpha=.4\n",
        "  )\n",
        "  axes.fill_between(\n",
        "      x,\n",
        "      y,\n",
        "      y_max + 2,\n",
        "      where=y<y_max+2,\n",
        "      color=\"red\",\n",
        "      alpha=.4\n",
        "  )\n",
        "  axes.scatter(\n",
        "      gx,\n",
        "      gy,\n",
        "      color=\"red\"\n",
        "  )\n",
        "  axes.scatter(\n",
        "      bx,\n",
        "      by,\n",
        "      color=\"blue\"\n",
        "  )\n",
        "\n",
        "\n",
        "def plot_performance(performance, wine_data, good_thresh, bad_thresh, epoch=-1, save_plot=False):\n",
        "  fig = plt.figure(figsize=(20,5))\n",
        "  plot_errors_as_function_of_epoch(performance, fig)\n",
        "  plot_decision_boundry(performance, wine_data, good_thresh, bad_thresh, epoch, fig)\n",
        "  plt.show()\n",
        "  if (save_plot == True):\n",
        "    return plt.savefig('plot_performance.png')\n"
      ],
      "execution_count": 0,
      "outputs": []
    },
    {
      "cell_type": "code",
      "metadata": {
        "id": "P6lGrl9O77lR",
        "colab_type": "code",
        "outputId": "c4b3a584-3760-4122-bbda-8b17766affc8",
        "colab": {
          "base_uri": "https://localhost:8080/",
          "height": 350
        }
      },
      "source": [
        "wine_data = percp.wine_data[[\"pH\", \"alcohol\", \"quality\"]]\n",
        "# wine_data[wine_data.columns[0]]\n",
        "plot_performance(ret_vals, percp.wine_data[[\"pH\", \"alcohol\", \"quality\"]], 8, 3, -1, False)"
      ],
      "execution_count": 0,
      "outputs": [
        {
          "output_type": "display_data",
          "data": {
            "image/png": "[encoded data removed]",
            "text/plain": [
              "<Figure size 1440x360 with 2 Axes>"
            ]
          },
          "metadata": {
            "tags": []
          }
        }
      ]
    },
    {
      "cell_type": "markdown",
      "metadata": {
        "id": "15J4wDEv8GxZ",
        "colab_type": "text"
      },
      "source": [
        "## d)\n",
        "Your perceptron appears to work...but why is it taking so many epochs to train? Maybe you can modify the red wine data to help the perceptron learn more quickly? **Use the function you just created in part c) to plot and verify that your perceptron is learning more efficiently!**\n",
        "```\n",
        "**FEATURE SCALING**\n",
        "```"
      ]
    },
    {
      "cell_type": "code",
      "metadata": {
        "id": "mcym78g-GwFD",
        "colab_type": "code",
        "outputId": "8fa2d99f-5557-4287-c353-6c6d95254177",
        "colab": {
          "base_uri": "https://localhost:8080/",
          "height": 198
        }
      },
      "source": [
        "wine_data = get_csv_from_github()\n",
        "\n",
        "#TODO: Change perceptron to use column names instead of iloc/loc"
      ],
      "execution_count": 0,
      "outputs": [
        {
          "output_type": "error",
          "ename": "NameError",
          "evalue": "ignored",
          "traceback": [
            "\u001b[0;31m---------------------------------------------------------------------------\u001b[0m",
            "\u001b[0;31mNameError\u001b[0m                                 Traceback (most recent call last)",
            "\u001b[0;32m<ipython-input-2-3a0e75e03c4b>\u001b[0m in \u001b[0;36m<module>\u001b[0;34m()\u001b[0m\n\u001b[0;32m----> 1\u001b[0;31m \u001b[0mwine_data\u001b[0m \u001b[0;34m=\u001b[0m \u001b[0mget_csv_from_github\u001b[0m\u001b[0;34m(\u001b[0m\u001b[0;34m)\u001b[0m\u001b[0;34m\u001b[0m\u001b[0;34m\u001b[0m\u001b[0m\n\u001b[0m\u001b[1;32m      2\u001b[0m \u001b[0;34m\u001b[0m\u001b[0m\n\u001b[1;32m      3\u001b[0m \u001b[0;31m#TODO: Change perceptron to use column names instead of iloc/loc\u001b[0m\u001b[0;34m\u001b[0m\u001b[0;34m\u001b[0m\u001b[0;34m\u001b[0m\u001b[0m\n",
            "\u001b[0;31mNameError\u001b[0m: name 'get_csv_from_github' is not defined"
          ]
        }
      ]
    },
    {
      "cell_type": "code",
      "metadata": {
        "id": "fD6oFNyj8Vhf",
        "colab_type": "code",
        "outputId": "e71a7515-dde8-4de8-99c4-a1d88f418da8",
        "colab": {
          "base_uri": "https://localhost:8080/",
          "height": 232
        }
      },
      "source": [
        "import math\n",
        "\n",
        "def find_mean(data):\n",
        "  return (sum(data) / len(data))\n",
        "\n",
        "def standard_deviation(row):\n",
        "  sq = []\n",
        "  mean = find_mean(row)\n",
        "  for x in row:\n",
        "    sq.append((x - mean)**2)\n",
        "  return math.sqrt(find_mean(sq))\n",
        "  \n",
        "\n",
        "def standardization(wines):\n",
        "  for row in wines:\n",
        "    if (row == \"quality\"):\n",
        "      break;\n",
        "    std_dev = standard_deviation(wines[row])\n",
        "    mean = find_mean(wines[row])\n",
        "    for x in range(len(wines[row])):\n",
        "      wines.at[x, row] = ((wines[row].iloc[x] - mean) / std_dev)\n",
        "  return wines\n",
        "\n",
        "# wine_data.at[123, 'quality']\n",
        "winedata = wine_data[[\"pH\", \"alcohol\", \"quality\"]]\n",
        "wines = standardization(winedata)\n",
        "# print(wine_data1)\n",
        "percp = Perceptron(wines)\n",
        "ret = percp.train(0, 0.1)\n",
        "plot_performance(ret, percp.wine_data[[\"pH\", \"alcohol\"]], 8, 3, -1, False)\n",
        "\n",
        "    \n",
        "    \n",
        "  "
      ],
      "execution_count": 0,
      "outputs": [
        {
          "output_type": "error",
          "ename": "NameError",
          "evalue": "ignored",
          "traceback": [
            "\u001b[0;31m---------------------------------------------------------------------------\u001b[0m",
            "\u001b[0;31mNameError\u001b[0m                                 Traceback (most recent call last)",
            "\u001b[0;32m<ipython-input-1-ae65d63ca7a7>\u001b[0m in \u001b[0;36m<module>\u001b[0;34m()\u001b[0m\n\u001b[1;32m     23\u001b[0m \u001b[0;34m\u001b[0m\u001b[0m\n\u001b[1;32m     24\u001b[0m \u001b[0;31m# wine_data.at[123, 'quality']\u001b[0m\u001b[0;34m\u001b[0m\u001b[0;34m\u001b[0m\u001b[0;34m\u001b[0m\u001b[0m\n\u001b[0;32m---> 25\u001b[0;31m \u001b[0mwinedata\u001b[0m \u001b[0;34m=\u001b[0m \u001b[0mwine_data\u001b[0m\u001b[0;34m[\u001b[0m\u001b[0;34m[\u001b[0m\u001b[0;34m\"pH\"\u001b[0m\u001b[0;34m,\u001b[0m \u001b[0;34m\"alcohol\"\u001b[0m\u001b[0;34m,\u001b[0m \u001b[0;34m\"quality\"\u001b[0m\u001b[0;34m]\u001b[0m\u001b[0;34m]\u001b[0m\u001b[0;34m\u001b[0m\u001b[0;34m\u001b[0m\u001b[0m\n\u001b[0m\u001b[1;32m     26\u001b[0m \u001b[0mwines\u001b[0m \u001b[0;34m=\u001b[0m \u001b[0mstandardization\u001b[0m\u001b[0;34m(\u001b[0m\u001b[0mwinedata\u001b[0m\u001b[0;34m)\u001b[0m\u001b[0;34m\u001b[0m\u001b[0;34m\u001b[0m\u001b[0m\n\u001b[1;32m     27\u001b[0m \u001b[0;31m# print(wine_data1)\u001b[0m\u001b[0;34m\u001b[0m\u001b[0;34m\u001b[0m\u001b[0;34m\u001b[0m\u001b[0m\n",
            "\u001b[0;31mNameError\u001b[0m: name 'wine_data' is not defined"
          ]
        }
      ]
    },
    {
      "cell_type": "markdown",
      "metadata": {
        "id": "y01ZDJH7rwzX",
        "colab_type": "text"
      },
      "source": [
        "# V.3 My Fair ADALINE\n",
        "Adaptive Linear Neurons"
      ]
    },
    {
      "cell_type": "markdown",
      "metadata": {
        "id": "-MD-m6MHr6g5",
        "colab_type": "text"
      },
      "source": [
        "##a)\n",
        "Encouraged by the results of your perceptron, you decide to see if you can use it to\n",
        "distinguish between wines with a score of 4 and lower, and wines with a score of 7 and higher. Feeling confident, you decide to let the perceptron train until it can find the best decision boundary.\n",
        "Marvin notices and chides you for torturing your perceptron. Why?\n",
        "You decide to upgrade your perceptron to handle this harder classification task. You’ve heard a bit about the gradient descent technique and also about ADALINE, maybe these will do the trick?\n",
        "\n",
        "**Gradient descent, know it, love it!**"
      ]
    },
    {
      "cell_type": "code",
      "metadata": {
        "id": "lBdrPNdhY6yK",
        "colab_type": "code",
        "outputId": "71bc803e-fc2e-4c03-84d4-0808aaf2aaf4",
        "colab": {
          "base_uri": "https://localhost:8080/",
          "height": 1003
        }
      },
      "source": [
        "import matplotlib.pyplot as plt\n",
        "import pandas as pd\n",
        "import random as rand\n",
        "import time\n",
        "import math\n",
        "\n",
        "def get_csv_from_github():\n",
        "  url = 'https://raw.githubusercontent.com/ssnelgrove314/ft_sommelier/master/winequality-red.csv'\n",
        "  df1 = pd.read_csv(url, sep=';')\n",
        "  return df1\n",
        "\n",
        "def dot_product(inputs, second):\n",
        "  ret = 0\n",
        "  for x in range(inputs.shape[1]):\n",
        "    ret = ret + inputs.iloc[x].sum() * second[x]\n",
        "  return ret\n",
        "\n",
        "def standardization(wines):\n",
        "    def find_mean(data):\n",
        "      return (sum(data) / len(data))\n",
        "\n",
        "    def standard_deviation(row):\n",
        "      sq = []\n",
        "      mean = find_mean(row)\n",
        "      for x in row:\n",
        "        sq.append((x - mean)**2)\n",
        "      return math.sqrt(find_mean(sq))\n",
        "\n",
        "    for row in wines:\n",
        "      if (row == \"quality\"):\n",
        "        break;\n",
        "      std_dev = standard_deviation(wines[row])\n",
        "      mean = find_mean(wines[row])\n",
        "      for x in range(len(wines[row])):\n",
        "        wines.at[x, row] = ((wines[row].iloc[x] - mean) / std_dev)\n",
        "    return wines\n",
        "\n",
        "def get_good_bad_threshold_data(inputs, good_thresh, bad_thresh, columns=[\"pH\", \"alcohol\"]):\n",
        "  for x in columns:\n",
        "    if x not in inputs.columns:\n",
        "      columns = [\"pH\", \"alcohol\"]\n",
        "  rand.seed(time.time())\n",
        "  good = inputs.quality >= good_thresh\n",
        "  bad = inputs.quality <= bad_thresh\n",
        "  good_in = inputs[good]\n",
        "  bad_in = inputs[bad]\n",
        "  wines = [good_in, bad_in]\n",
        "  ret = pd.concat(wines).reset_index(drop=True)\n",
        "  ret = standardization(ret).sample(frac=1).reset_index(drop=True)\n",
        "  labels = ret.quality.map(lambda x: 1.0 if x >= good_thresh else 0.0)\n",
        "  ret = ret[columns]\n",
        "  return ret, labels\n",
        "\n",
        "wine = get_csv_from_github()\n",
        "#weights, bias = [rand.uniform(-1.0, 1.0) for x in range(0, 12)], rand.uniform(-1.0, 1.0)\n",
        "#ret = dot_product(wine, weights)\n",
        "\n",
        "\n",
        "inputs, lables = get_good_bad_threshold_data(wine, 8, 3, columns=[\"pH\", \"citric acid\"])\n",
        "print(inputs)\n",
        "print(lables)"
      ],
      "execution_count": 0,
      "outputs": [
        {
          "output_type": "stream",
          "text": [
            "          pH  citric acid\n",
            "0  -0.555219     0.795964\n",
            "1   0.994052    -1.199252\n",
            "2  -0.608642     0.116741\n",
            "3  -0.341527     1.475186\n",
            "4   2.169361    -0.307773\n",
            "5  -0.448373    -0.010613\n",
            "6   1.688553    -1.326606\n",
            "7   0.192705     0.328998\n",
            "8   0.459821    -1.114349\n",
            "9  -0.875758     1.050672\n",
            "10  0.352974     0.456352\n",
            "11 -0.501796     1.517637\n",
            "12  1.314591    -1.114349\n",
            "13  0.192705     0.626158\n",
            "14 -0.448373     0.583707\n",
            "15 -0.448373     0.074290\n",
            "16  0.032435    -1.326606\n",
            "17 -0.020988    -1.114349\n",
            "18  1.261168    -1.241703\n",
            "19 -1.783952     0.965769\n",
            "20 -0.394950    -0.053064\n",
            "21  0.994052    -1.326606\n",
            "22 -0.822335     0.753512\n",
            "23  0.780360    -0.944543\n",
            "24 -0.875758     0.923318\n",
            "25 -2.318183     1.729894\n",
            "26 -0.875758     0.923318\n",
            "27  0.887206    -1.241703\n",
            "0     1.0\n",
            "1     1.0\n",
            "2     1.0\n",
            "3     0.0\n",
            "4     1.0\n",
            "5     1.0\n",
            "6     0.0\n",
            "7     1.0\n",
            "8     0.0\n",
            "9     1.0\n",
            "10    0.0\n",
            "11    1.0\n",
            "12    1.0\n",
            "13    1.0\n",
            "14    1.0\n",
            "15    1.0\n",
            "16    0.0\n",
            "17    0.0\n",
            "18    0.0\n",
            "19    1.0\n",
            "20    1.0\n",
            "21    0.0\n",
            "22    0.0\n",
            "23    1.0\n",
            "24    1.0\n",
            "25    1.0\n",
            "26    1.0\n",
            "27    0.0\n",
            "Name: quality, dtype: float64\n"
          ],
          "name": "stdout"
        }
      ]
    },
    {
      "cell_type": "code",
      "metadata": {
        "id": "U4ZhBM2ez_bC",
        "colab_type": "code",
        "colab": {}
      },
      "source": [
        "import matplotlib as plt\n",
        "import pandas as pd\n",
        "import random as rand\n",
        "import math\n",
        "import time\n",
        "\n",
        "class Adaline(object):\n",
        "  def __init__(self, input_data, good_thresh=8, bad_thresh=3, columns=[\"pH\", \"alcohol\"]):\n",
        "    self.good_thresh = good_thresh\n",
        "    self.bad_thresh = bad_thresh\n",
        "    self.columns = columns\n",
        "    self.input_data = input_data\n",
        "    self.input, self.lables = self.get_good_bad_threshold_data(self, self.input_data, self.good_thresh, self.bad_thresh, self.columns)\n",
        "    self.weights, self.bias = [rand.uniform(-1.0, 1.0) for x in range(0, self.num_of_inputs)], rand.uniform(-1.0, 1.0)\n",
        "    \n",
        "  def get_good_bad_threshold_data(self, inputs, good_thresh, bad_thresh, columns=[\"pH\", \"alcohol\"]):\n",
        "    rand.seed(time.time())\n",
        "    good = inputs.quality >= good_thresh\n",
        "    bad = inputs.quality <= bad_thresh\n",
        "    good_in = inputs[good]\n",
        "    bad_in = inputs[bad]\n",
        "    wines = [good_in, bad_in]\n",
        "    ret = pd.concat(wines).reset_index(drop=True)\n",
        "    ret = standardization(ret).sample(frac=1).reset_index(drop=True)\n",
        "    labels = ret.quality.map(lambda x: 1.0 if x >= good_thresh else 0.0)\n",
        "    ret = ret[columns]\n",
        "    return ret, labels\n",
        "\n",
        "  def standardization(self, wines):\n",
        "    def find_mean(data):\n",
        "      return (sum(data) / len(data))\n",
        "\n",
        "    def standard_deviation(self, row):\n",
        "      sq = []\n",
        "      mean = find_mean(row)\n",
        "      for x in row:\n",
        "        sq.append((x - mean)**2)\n",
        "      return math.sqrt(find_mean(sq))\n",
        "\n",
        "    for row in wines:\n",
        "      if (row == \"quality\"):\n",
        "        break;\n",
        "      std_dev = standard_deviation(wines[row])\n",
        "      mean = find_mean(wines[row])\n",
        "      for x in range(len(wines[row])):\n",
        "        wines.at[x, row] = ((wines[row].iloc[x] - mean) / std_dev)\n",
        "    return wines\n",
        "  \n",
        "  def fit(self, epochs, learning_rate):\n",
        "    self.errors = []\n",
        "    self.cost = []\n",
        "    for ep in range(epochs):\n",
        "      output = self.net_input()\n",
        "      #Is it the sum of lables?\n",
        "      errors = sum(self.lables) - output\n",
        "      self.weights += learning_rate * dot_product(inputs, errors)\n",
        "      self.bias += learning_rate * errors.sum()\n",
        "      cost = (errors**2).sum() / 2.0\n",
        "      self.cost.append(cost)\n",
        "  \n",
        "  def dot_product(inputs, second):\n",
        "    ret = 0\n",
        "    for x in range(inputs.shape[1]):\n",
        "      ret = ret + inputs.iloc[x].sum() * second[x]\n",
        "    return ret\n",
        "  \n",
        "  def activation(self, inputs):\n",
        "    return self.net_input(inputs)\n",
        "  \n",
        "  def net_input(self, inputs):\n",
        "    return dot_product(inputs, self.weight) + self.bias\n"
      ],
      "execution_count": 0,
      "outputs": []
    },
    {
      "cell_type": "code",
      "metadata": {
        "id": "GduNYZNi5o9l",
        "colab_type": "code",
        "outputId": "ac601e32-94b6-4dce-fd12-a1088e90e0a3",
        "colab": {
          "base_uri": "https://localhost:8080/",
          "height": 408
        }
      },
      "source": [
        "\n",
        "for x in range(23) if True > 0 else infinity():\n",
        "  print (\"hi\")\n",
        "  "
      ],
      "execution_count": 0,
      "outputs": [
        {
          "output_type": "stream",
          "text": [
            "hi\n",
            "hi\n",
            "hi\n",
            "hi\n",
            "hi\n",
            "hi\n",
            "hi\n",
            "hi\n",
            "hi\n",
            "hi\n",
            "hi\n",
            "hi\n",
            "hi\n",
            "hi\n",
            "hi\n",
            "hi\n",
            "hi\n",
            "hi\n",
            "hi\n",
            "hi\n",
            "hi\n",
            "hi\n",
            "hi\n"
          ],
          "name": "stdout"
        }
      ]
    },
    {
      "cell_type": "markdown",
      "metadata": {
        "id": "uQQvYn7dso41",
        "colab_type": "text"
      },
      "source": [
        "##b)\n",
        "Implement an ADALINE that:\n",
        "- Has randomly initialized weights and bias\n",
        "- Uses a linear activation function and some kind of quantizer • Uses the Widrow-Hoff learning rule\n"
      ]
    },
    {
      "cell_type": "markdown",
      "metadata": {
        "id": "hqvBiF66t1O0",
        "colab_type": "text"
      },
      "source": [
        "##c)\n",
        "You’ll need to implement a function to train your ADALINE. Your training function should:\n",
        "- Take in your red wine data as a parameter\n",
        "- Have a way to specify number of training epochs\n",
        "- If training epochs is set to 0, your ADALINE should train until it converges on a good set of weights.\n",
        "- Have a way to specify learning rate.\n",
        "- Have an option to perform either online learning or batch learning"
      ]
    },
    {
      "cell_type": "code",
      "metadata": {
        "id": "S3xiZMiLTomQ",
        "colab_type": "code",
        "colab": {}
      },
      "source": [
        "%%cython\n",
        "from libc.stdlib cimport malloc, free\n",
        "from libc.stdlib cimport rand, srand\n",
        "\n",
        "ctypedef struct perceptron_t:\n",
        "  int a\n",
        "\n",
        "cdef main():\n",
        "  cdef test_t* test = <test_t*>malloc(sizeof(test_t))\n",
        "  \n",
        "  test2.a = 4\n",
        "  print(test2.a)\n",
        "\n",
        "\n",
        "main()\n"
      ],
      "execution_count": 0,
      "outputs": []
    },
    {
      "cell_type": "code",
      "metadata": {
        "id": "YmQcPp0ylDrw",
        "colab_type": "code",
        "colab": {}
      },
      "source": [
        "##WORKING, DONT FUCK WITH IT\n",
        "\n",
        "import pandas as pd\n",
        "import random as rand\n",
        "import numpy as np\n",
        "\n",
        "#The Perceptron\n",
        "class Perceptron(object):\n",
        "  def __init__(self, num_of_inputs, threshold=0.0):\n",
        "    self.current_epoch = 0\n",
        "    self.num_errors_at_epoch_end = 0\n",
        "    self.num_of_inputs = num_of_inputs\n",
        "    self.weights, self.bias = [rand.uniform(-1.0, 1.0) for x in range(0, num_of_inputs)], rand.uniform(-1.0, 1.0)\n",
        "  \n",
        "  #Make predictions\n",
        "  def predict(self, inputs):\n",
        "    #Heaviside step activation fuction discrete version\n",
        "    activation = self.bias\n",
        "    #dot product\n",
        "    for i in range(len(inputs)):\n",
        "      activation += self.weights[i] * inputs[i]\n",
        "    return 1.0 if activation >= 0.0 else 0.0\n",
        "  \n",
        "  def train(self, training_inputs, labels, epochs=100, learning_rate=1):\n",
        "    ret = []\n",
        "    if epochs == 0:\n",
        "      while (True):\n",
        "        self.current_epoch += 1\n",
        "        sum_error = 0.0\n",
        "        for i in range(len(training_inputs)):\n",
        "          prediction = self.predict(training_inputs.iloc[i])\n",
        "          error = labels.iloc[i] - prediction\n",
        "          sum_error += error**2\n",
        "          self.bias = self.bias + learning_rate * error\n",
        "          for j in range(len(training_inputs.iloc[i])):\n",
        "            self.weights[j] = self.weights[j] + learning_rate * error * training_inputs.iloc[i][j]\n",
        "          ret.append((self.current_epoch, sum_error, self.weights, self.bias))\n",
        "        if sum_error == 0.0:\n",
        "          return ret\n",
        "        #print((self.current_epoch, sum_error, self.weights, self.bias))\n",
        "\n",
        "    else:\n",
        "      for current in range(epochs):\n",
        "        self.current_epoch += 1\n",
        "        sum_error = 0.0\n",
        "        for i in range(len(training_inputs)):\n",
        "          prediction = self.predict(training_inputs.iloc[i])\n",
        "          error = labels.iloc[i] - prediction\n",
        "          sum_error += error**2\n",
        "          self.bias = self.bias + learning_rate * error\n",
        "          for j in range(len(training_inputs.iloc[i])):\n",
        "            self.weights[j] = self.weights[j] + learning_rate * error * training_inputs.iloc[i][j]\n",
        "        ret.append((self.current_epoch, sum_error, self.weights, self.bias))\n",
        "      return ret\n",
        "  \n",
        "\n"
      ],
      "execution_count": 0,
      "outputs": []
    },
    {
      "cell_type": "markdown",
      "metadata": {
        "id": "b9dI0AfLuCAG",
        "colab_type": "text"
      },
      "source": [
        "##d)\n",
        "Find a good learning rate for your ADALINE and plot number of classification errors vs. epoch and the decision boundry of your ADALINE. What settings tend to give the smallest number of classification errors? Support your reasoning with example plots!"
      ]
    },
    {
      "cell_type": "code",
      "metadata": {
        "id": "TilAQFNG5Z6I",
        "colab_type": "code",
        "outputId": "17f03e55-1029-489b-bca2-cf6469834899",
        "colab": {
          "base_uri": "https://localhost:8080/",
          "height": 52
        }
      },
      "source": [
        "%reload_ext cython\n",
        "%load_ext cython"
      ],
      "execution_count": 0,
      "outputs": [
        {
          "output_type": "stream",
          "text": [
            "The cython extension is already loaded. To reload it, use:\n",
            "  %reload_ext cython\n"
          ],
          "name": "stdout"
        }
      ]
    },
    {
      "cell_type": "code",
      "metadata": {
        "id": "4Q2--TqTM1Y1",
        "colab_type": "code",
        "colab": {}
      },
      "source": [
        "%%cython\n",
        "from libc.stdlib cimport malloc, free\n",
        "ctypedef int BOOL\n",
        "\n",
        "def test():\n",
        "  cdef BOOL *a = <int *> malloc(1 * sizeof(int))\n",
        "  a[0] = 1\n",
        "  print(a[0])"
      ],
      "execution_count": 0,
      "outputs": []
    },
    {
      "cell_type": "code",
      "metadata": {
        "id": "JdQlMcenSWxl",
        "colab_type": "code",
        "outputId": "d08392e3-dc8e-41c8-d02d-200f3b91891d",
        "colab": {
          "base_uri": "https://localhost:8080/",
          "height": 35
        }
      },
      "source": [
        "test()"
      ],
      "execution_count": 0,
      "outputs": [
        {
          "output_type": "stream",
          "text": [
            "1\n"
          ],
          "name": "stdout"
        }
      ]
    }
  ]
}